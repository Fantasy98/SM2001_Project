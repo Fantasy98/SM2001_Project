{
 "cells": [
  {
   "cell_type": "markdown",
   "metadata": {},
   "source": [
    "# SM2001 Project # 5"
   ]
  },
  {
   "cell_type": "code",
   "execution_count": 1,
   "metadata": {},
   "outputs": [],
   "source": [
    "import scipy.io as sio\n",
    "import numpy as np \n",
    "from matplotlib import pyplot as plt \n"
   ]
  },
  {
   "cell_type": "markdown",
   "metadata": {},
   "source": [
    "# Load the data from matlab"
   ]
  },
  {
   "cell_type": "code",
   "execution_count": 6,
   "metadata": {},
   "outputs": [
    {
     "name": "stdout",
     "output_type": "stream",
     "text": [
      "dict_keys(['__header__', '__version__', '__globals__', 'data'])\n",
      "The shape of whole dataset is (1000, 4000, 9)\n"
     ]
    }
   ],
   "source": [
    "FILE =sio.loadmat(\"moehlis_data_1000.mat\")\n",
    "DATA  = FILE[\"data\"]\n",
    "print(FILE.keys())\n",
    "print(f\"The shape of whole dataset is {DATA.shape}\")"
   ]
  },
  {
   "cell_type": "markdown",
   "metadata": {},
   "source": [
    "# Global Variables"
   ]
  },
  {
   "cell_type": "code",
   "execution_count": 29,
   "metadata": {},
   "outputs": [],
   "source": [
    "#Number of Timeseries\n",
    "SERIES_NUM = DATA.shape[0]\n",
    "# Timesteps\n",
    "TIME = DATA.shape[1]\n",
    "# ODE\n",
    "ODE = DATA.shape[2]"
   ]
  },
  {
   "cell_type": "markdown",
   "metadata": {},
   "source": [
    "# Task 1 Check and Discard any timeseries which has laminarlization\n",
    "\n",
    "+ Criteria : The amplitude ${a_1}$ is 1 and rest ${a_{2}}$ ~ ${a_{9}}$ nearly 0\n",
    "+ i.e |${a_1}$| -1 <=0.01"
   ]
  },
  {
   "cell_type": "code",
   "execution_count": 15,
   "metadata": {},
   "outputs": [],
   "source": [
    "discard_indx = []\n",
    "for timeseries in np.arange(SERIES_NUM) :\n",
    "        series = DATA[timeseries,:,:]\n",
    "        a1 = series[:,0]\n",
    "        a2a9 = series[:,1:]\n",
    "        # print(f\"The $a_1$ is {a1} \") \n",
    "        threshold = 0.01\n",
    "\n",
    "        crit = np.abs(a1-1) \n",
    "        if crit.any() <= threshold and a2a9.mean() <= threshold:\n",
    "            discard_indx.append(timeseries)"
   ]
  },
  {
   "cell_type": "code",
   "execution_count": 19,
   "metadata": {},
   "outputs": [
    {
     "name": "stdout",
     "output_type": "stream",
     "text": [
      "All the timeseries are not going to relaminarlize !\n"
     ]
    }
   ],
   "source": [
    "discard_indx = np.array(discard_indx) \n",
    "if discard_indx.shape[0] != 0:\n",
    "    print(f\"The timeseries should be discard is {discard_indx}\")\n",
    "else:\n",
    "    print(\"All the timeseries are not going to relaminarlize !\")"
   ]
  },
  {
   "cell_type": "markdown",
   "metadata": {},
   "source": [
    "# Task 2 Temporal Evolution"
   ]
  },
  {
   "cell_type": "markdown",
   "metadata": {},
   "source": [
    "## 2.1 Plot Several Timeseries"
   ]
  },
  {
   "cell_type": "code",
   "execution_count": 28,
   "metadata": {},
   "outputs": [
    {
     "name": "stdout",
     "output_type": "stream",
     "text": [
      "In this time, Timeseries number [662 326 584] are going to be plotted \n"
     ]
    }
   ],
   "source": [
    "## Randomly choose 3 timeseries from 1000 timeseries \n",
    "rand_series_index = np.random.randint(0,1000,size=(3))\n",
    "print(f\"In this time, Timeseries number {rand_series_index} are going to be plotted \")"
   ]
  },
  {
   "cell_type": "code",
   "execution_count": 81,
   "metadata": {},
   "outputs": [],
   "source": [
    "def Plot_Timeseries(timeseries):\n",
    "        fontdict_title = {\"fontweight\":\"bold\",\"fontsize\":25}\n",
    "        fontdict = {\"fontsize\":20}\n",
    "\n",
    "        f,axes = plt.subplots(5,2,figsize = (16,20))\n",
    "\n",
    "        f.delaxes(axes[-1,-1])\n",
    "        ode_range = np.arange(ODE)\n",
    "        \n",
    "        axs = axes.flatten()\n",
    "        for ax,ode in zip(axs,ode_range):\n",
    "                \n",
    "                ax.plot(timeseries[:,ode])\n",
    "                ax.set_xlabel(\"Time\",fontdict)\n",
    "                ax.set_ylabel(\"Amplitude\",fontdict)\n",
    "                ax.set_title(\"$a_{}$\".format(ode+1),fontdict=fontdict_title)\n",
    "                ax.tick_params(axis='both', which='major', labelsize=15)\n",
    "                \n",
    "        plt.subplots_adjust(left=0.05,hspace= 0.5,wspace=0.2 )\n",
    "        "
   ]
  },
  {
   "cell_type": "code",
   "execution_count": 1,
   "metadata": {},
   "outputs": [],
   "source": [
    "# for ts in rand_series_index:\n",
    "    # Plot_Timeseries(DATA[ts,:,:])\n",
    "    # plt.savefig(r\"/Users/wangyuning/Desktop/Data-driven Methods in Engineering Mechanics/SM2001_Project/Task2/Timeseries{}\".format(ts))\n",
    "    "
   ]
  },
  {
   "cell_type": "code",
   "execution_count": null,
   "metadata": {},
   "outputs": [],
   "source": []
  }
 ],
 "metadata": {
  "kernelspec": {
   "display_name": "Python 3.9.11 64-bit",
   "language": "python",
   "name": "python3"
  },
  "language_info": {
   "codemirror_mode": {
    "name": "ipython",
    "version": 3
   },
   "file_extension": ".py",
   "mimetype": "text/x-python",
   "name": "python",
   "nbconvert_exporter": "python",
   "pygments_lexer": "ipython3",
   "version": "3.9.11"
  },
  "orig_nbformat": 4,
  "vscode": {
   "interpreter": {
    "hash": "aee8b7b246df8f9039afb4144a1f6fd8d2ca17a180786b69acc140d282b71a49"
   }
  }
 },
 "nbformat": 4,
 "nbformat_minor": 2
}
