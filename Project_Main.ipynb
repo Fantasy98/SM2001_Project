{
 "cells": [
  {
   "cell_type": "markdown",
   "metadata": {},
   "source": [
    "# SM2001 Project # 5"
   ]
  },
  {
   "cell_type": "code",
   "execution_count": 1,
   "metadata": {},
   "outputs": [],
   "source": [
    "import scipy.io as sio\n",
    "import numpy as np \n",
    "from matplotlib import pyplot as plt\n",
    "import pandas as pd"
   ]
  },
  {
   "cell_type": "code",
   "execution_count": 2,
   "metadata": {},
   "outputs": [],
   "source": [
    "def U2X(Index):\n",
    "    U2X_ALL = np.zeros((Index,21,21))\n",
    "    U_all = np.zeros((Index,4000,21,21))\n",
    "    for ind in range(Index): \n",
    "        for i in range(TIME):\n",
    "            a_ = DATA[ind,i,:]\n",
    "            a_ = np.expand_dims(a_,axis=-1)\n",
    "            U_all[ind,i,:,:] = Velocity_Mean_Profile(a_)\n",
    "        u_mean_t = np.mean(U_all,axis=1)\n",
    "        u_mean_t_expand = np.expand_dims(u_mean_t,axis=1)\n",
    "        u_prime_all = np.zeros(shape = U_all.shape)\n",
    "\n",
    "\n",
    "    for ind in range(Index):\n",
    "        for i in range(TIME):\n",
    "            u_prime_all[ind,i,:,:] = U_all[ind,i,:,:] - u_mean_t_expand\n",
    "        u2x_all = u_prime_all * u_prime_all\n",
    "        u2x_mean = np.mean(u2x_all,axis=1)\n",
    "        U2X_ALL[ind,:,:] = u2x_mean\n",
    "    return U2X_ALL"
   ]
  },
  {
   "cell_type": "markdown",
   "metadata": {},
   "source": [
    "# Load the data from matlab"
   ]
  },
  {
   "cell_type": "code",
   "execution_count": 3,
   "metadata": {},
   "outputs": [
    {
     "name": "stdout",
     "output_type": "stream",
     "text": [
      "dict_keys(['__header__', '__version__', '__globals__', 'data'])\n",
      "The shape of whole dataset is (1000, 4000, 9)\n"
     ]
    }
   ],
   "source": [
    "FILE =sio.loadmat(\"/Users/wangyuning/Desktop/Data-driven Methods in Engineering Mechanics/SM2001_Project/Data generator (Moehlis model)/moehlis_data_1000.mat\")\n",
    "DATA  = FILE[\"data\"]\n",
    "print(FILE.keys())\n",
    "print(f\"The shape of whole dataset is {DATA.shape}\")"
   ]
  },
  {
   "cell_type": "markdown",
   "metadata": {},
   "source": [
    "# Global Variables"
   ]
  },
  {
   "cell_type": "code",
   "execution_count": 4,
   "metadata": {},
   "outputs": [],
   "source": [
    "#Number of Timeseries\n",
    "SERIES_NUM = DATA.shape[0]\n",
    "# Timesteps\n",
    "TIME = DATA.shape[1]\n",
    "# ODE\n",
    "ODE = DATA.shape[2]"
   ]
  },
  {
   "cell_type": "markdown",
   "metadata": {},
   "source": [
    "# Task 1 Check and Discard any timeseries which has laminarlization\n",
    "\n",
    "+ Criteria : The amplitude ${a_1}$ is 1 and rest ${a_{2}}$ ~ ${a_{9}}$ nearly 0\n",
    "+ i.e |${a_1}$| -1 <=0.01"
   ]
  },
  {
   "cell_type": "code",
   "execution_count": 5,
   "metadata": {},
   "outputs": [],
   "source": [
    "discard_indx = []\n",
    "for timeseries in np.arange(SERIES_NUM) :\n",
    "        series = DATA[timeseries,:,:]\n",
    "        a1 = series[:,0]\n",
    "        a2a9 = series[:,1:]\n",
    "        # print(f\"The $a_1$ is {a1} \") \n",
    "        threshold = 0.01\n",
    "\n",
    "        crit = np.abs(a1-1) \n",
    "        if crit.any() <= threshold and a2a9.mean() <= threshold:\n",
    "            discard_indx.append(timeseries)"
   ]
  },
  {
   "cell_type": "code",
   "execution_count": 6,
   "metadata": {},
   "outputs": [
    {
     "name": "stdout",
     "output_type": "stream",
     "text": [
      "All the timeseries are not going to relaminarlize !\n"
     ]
    }
   ],
   "source": [
    "discard_indx = np.array(discard_indx) \n",
    "if discard_indx.shape[0] != 0:\n",
    "    print(f\"The timeseries should be discard is {discard_indx}\")\n",
    "else:\n",
    "    print(\"All the timeseries are not going to relaminarlize !\")"
   ]
  },
  {
   "cell_type": "markdown",
   "metadata": {},
   "source": [
    "# Task 2 Temporal Evolution"
   ]
  },
  {
   "cell_type": "markdown",
   "metadata": {},
   "source": [
    "## 2.1 Plot Several Timeseries"
   ]
  },
  {
   "cell_type": "code",
   "execution_count": 7,
   "metadata": {},
   "outputs": [
    {
     "name": "stdout",
     "output_type": "stream",
     "text": [
      "In this time, Timeseries number [267 968 737] are going to be plotted \n"
     ]
    }
   ],
   "source": [
    "## Randomly choose 3 timeseries from 1000 timeseries \n",
    "rand_series_index = np.random.randint(0,1000,size=(3))\n",
    "print(f\"In this time, Timeseries number {rand_series_index} are going to be plotted \")"
   ]
  },
  {
   "cell_type": "code",
   "execution_count": 8,
   "metadata": {},
   "outputs": [],
   "source": [
    "def Plot_Timeseries(timeseries):\n",
    "        fontdict_title = {\"fontweight\":\"bold\",\"fontsize\":25}\n",
    "        fontdict = {\"fontsize\":15}\n",
    "\n",
    "        f,axes = plt.subplots(5,2,figsize = (8,10))\n",
    "\n",
    "        f.delaxes(axes[-1,-1])\n",
    "        ode_range = np.arange(ODE)\n",
    "        \n",
    "        axs = axes.flatten()\n",
    "        for ax,ode in zip(axs,ode_range):\n",
    "                \n",
    "                ax.plot(timeseries[:,ode])\n",
    "                ax.set_xlabel(\"Time\",fontdict)\n",
    "                ax.set_ylabel(\"Amplitude\",fontdict)\n",
    "                ax.set_title(\"$a_{}$\".format(ode+1),fontdict=fontdict_title)\n",
    "                ax.tick_params(axis='both', which='major', labelsize=5)\n",
    "                \n",
    "        plt.subplots_adjust(left=0.08,hspace= 0.8,wspace=0.2 )\n",
    "        "
   ]
  },
  {
   "cell_type": "code",
   "execution_count": 9,
   "metadata": {},
   "outputs": [],
   "source": [
    "# for ts in rand_series_index:\n",
    "    # Plot_Timeseries(DATA[ts,:,:])\n",
    "    # plt.savefig(r\"/Users/wangyuning/Desktop/Data-driven Methods in Engineering Mechanics/SM2001_Project/Task2/Timeseries{}\".format(ts))\n",
    "    "
   ]
  },
  {
   "cell_type": "markdown",
   "metadata": {},
   "source": [
    "## 2.2 Velocity Componments visualization"
   ]
  },
  {
   "cell_type": "code",
   "execution_count": 10,
   "metadata": {},
   "outputs": [],
   "source": [
    "import Velocity_Reconst\n",
    "import visualize_f\n",
    "a_ = DATA[5,:,:]\n",
    "# visualize_f.visualize_fields(a_,410,420)\n"
   ]
  },
  {
   "cell_type": "markdown",
   "metadata": {},
   "source": [
    "# Task 3 Turbulence Statics "
   ]
  },
  {
   "cell_type": "code",
   "execution_count": 11,
   "metadata": {},
   "outputs": [],
   "source": [
    "def Velocity_Mean_Profile(a_):\n",
    "    # for t in np.arange(start_t,end_t):\n",
    "        import Velocity_Reconst as v \n",
    "        a = a_\n",
    "\n",
    "        # velocity compoments\n",
    "        ux = a[0]*v.u1x + a[1]*v.u2x + a[5]*v.u6x + a[6]*v.u7x + a[7]*v.u8x + a[8]*v.u9x\n",
    "        uy = a[2]*v.u3y + a[7]*v.u8y\n",
    "        uz = a[2]*v.u3z + a[3]*v.u4z + a[4]*v.u5z + a[5]*v.u6z + a[6]*v.u7z + a[7]*v.u8z\n",
    "       \n",
    "\n",
    "        # Average velocity in x-direction (down stream)\n",
    "        ux_avg = np.reshape(np.mean(ux,axis=0),(v.ny,v.nz))\n",
    "        uy_avg = np.reshape(np.mean(uy,axis=0),(v.ny,v.nz))\n",
    "        uz_avg = np.reshape(np.mean(uz,axis=0),(v.ny,v.nz))\n",
    "       \n",
    "        # velocities at mid plane\n",
    "        ce = np.ceil(v.ny//2)\n",
    "        ce = np.int64(ce)\n",
    "   \n",
    "        ux_mid = np.reshape( ux[:,ce,:],(v.nx,v.nz) )\n",
    "        uy_mid = np.reshape( uy[:,ce,:],(v.nx,v.nz) )\n",
    "        uz_mid = np.reshape( uz[:,ce,:],(v.nx,v.nz) )\n",
    "        return ux_avg        # return ux_avg,uy_avg,uz_avg,ux,uy,uz"
   ]
  },
  {
   "cell_type": "code",
   "execution_count": 12,
   "metadata": {},
   "outputs": [],
   "source": [
    "def Velocity_x(a_):\n",
    "    # for t in np.arange(start_t,end_t):\n",
    "        import Velocity_Reconst as v \n",
    "        a = a_\n",
    "        # velocity compomenets\n",
    "        ux = a[0]*v.u1x + a[1]*v.u2x + a[5]*v.u6x + a[6]*v.u7x + a[7]*v.u8x + a[8]*v.u9x\n",
    "        return ux \n",
    "def Velocity_y(a_):\n",
    "    import Velocity_Reconst as v \n",
    "    a = a_\n",
    "        # velocity compomenets\n",
    "    uy = a[2]*v.u3y + a[7]*v.u8y\n",
    "    return uy\n",
    "def Velocity_z(a_):\n",
    "    import Velocity_Reconst as v \n",
    "    a = a_\n",
    "        # velocity compomenets\n",
    "    uz = a[2]*v.u3z + a[3]*v.u4z + a[4]*v.u5z + a[5]*v.u6z + a[6]*v.u7z + a[7]*v.u8z\n",
    "    return uz"
   ]
  },
  {
   "cell_type": "markdown",
   "metadata": {},
   "source": [
    "Take the first time series as example"
   ]
  },
  {
   "cell_type": "code",
   "execution_count": 13,
   "metadata": {},
   "outputs": [
    {
     "name": "stdout",
     "output_type": "stream",
     "text": [
      "The shape of 200 dataset is (4000, 9)\n",
      "After averaging in time the data has shape of (200, 9)\n"
     ]
    }
   ],
   "source": [
    "print(f\"The shape of 200 dataset is {DATA[200,:,:].shape}\")\n",
    "#Averaging mode in time, \n",
    "# which gives the corresponding velocity are averaged in time as well\n",
    "DATA_avg = np.mean(DATA[:200,:,:],axis=1)\n",
    "print(f\"After averaging in time the data has shape of {DATA_avg.shape}\")\n"
   ]
  },
  {
   "cell_type": "code",
   "execution_count": 14,
   "metadata": {},
   "outputs": [
    {
     "data": {
      "text/plain": [
       "(21, 21)"
      ]
     },
     "execution_count": 14,
     "metadata": {},
     "output_type": "execute_result"
    }
   ],
   "source": [
    "data_sample = DATA[0,:,:]\n",
    "\n",
    "a_  = data_sample[0,:]\n",
    "a_ = np.expand_dims(a_,-1)\n",
    "ux = Velocity_Mean_Profile(a_)\n",
    "ux.shape"
   ]
  },
  {
   "cell_type": "markdown",
   "metadata": {},
   "source": [
    "## 3.1 Mean Profile"
   ]
  },
  {
   "cell_type": "code",
   "execution_count": 87,
   "metadata": {},
   "outputs": [
    {
     "name": "stdout",
     "output_type": "stream",
     "text": [
      "(200, 9)\n"
     ]
    },
    {
     "data": {
      "image/png": "[encoded data removed]",
      "text/plain": [
       "<Figure size 504x504 with 1 Axes>"
      ]
     },
     "metadata": {
      "needs_background": "light"
     },
     "output_type": "display_data"
    }
   ],
   "source": [
    "import Velocity_Reconst as v\n",
    "INDX = 200\n",
    "Data200 = DATA[:INDX,:,:]\n",
    "Data200_time_avg = np.mean(Data200,axis=1)\n",
    "print(Data200_time_avg.shape)\n",
    "\n",
    "\n",
    "# Time averaged ux_avg \n",
    "Data200_series_all = np.zeros((INDX,21,21))\n",
    "\n",
    "\n",
    "for ind in range(INDX):\n",
    "    a_ = Data200_time_avg[ind,:]\n",
    "    Data200_series_all[ind,:,:] = Velocity_Mean_Profile(a_)\n",
    "plt.figure(figsize=(7,7))\n",
    "plt.plot(np.mean(Data200_series_all,axis=(0,2)),v.yp,lw=5)\n",
    "plt.xlabel(r\"$\\bar{u}$\")\n",
    "plt.ylabel(\"y\")\n",
    "plt.show()"
   ]
  },
  {
   "cell_type": "markdown",
   "metadata": {},
   "source": [
    "## 3.2 Fluctuations"
   ]
  },
  {
   "cell_type": "code",
   "execution_count": 64,
   "metadata": {},
   "outputs": [
    {
     "name": "stdout",
     "output_type": "stream",
     "text": [
      "(4000, 9)\n",
      "(9,)\n",
      "(21, 21, 21)\n",
      "(4000, 21, 21, 21)\n"
     ]
    }
   ],
   "source": [
    "a_ = DATA[1,:,:]\n",
    "print(a_.shape)\n",
    "\n",
    "a_avg_time = np.mean(a_,axis=0)\n",
    "print(a_avg_time.shape)\n",
    "U_mean_time = Velocity_x(a_avg_time)\n",
    "print(U_mean_time.shape)\n",
    "U_all = np.zeros((TIME,21,21,21))\n",
    "for t in range(TIME):\n",
    "    a1 = a_[t,:]\n",
    "    U_all[t,:,:,:] = Velocity_x(a1) - U_mean_time\n",
    "print(U_all.shape)"
   ]
  },
  {
   "cell_type": "code",
   "execution_count": 80,
   "metadata": {},
   "outputs": [],
   "source": [
    "def Single_u2x(a_):\n",
    "    a_avg_time = np.mean(a_,axis=0)\n",
    "    U_mean_time = Velocity_x(a_avg_time)\n",
    "    U_all = np.zeros((TIME,21,21,21))\n",
    "    for t in range(TIME):\n",
    "        a1 = a_[t,:]\n",
    "        U_all[t,:,:,:] = Velocity_x(a1) - U_mean_time\n",
    "    u2x= U_all * U_all\n",
    "    u2x_mean = np.mean(u2x,axis=(0,1,3))\n",
    "    return u2x_mean\n"
   ]
  },
  {
   "cell_type": "code",
   "execution_count": 81,
   "metadata": {},
   "outputs": [],
   "source": [
    "u2x_all = np.zeros((INDX,21))\n",
    "for ind in range(INDX):\n",
    "    a_ = DATA[ind,:,:]\n",
    "    u2x_mean = Single_u2x(a_)\n",
    "    u2x_all[ind,:] = u2x_mean"
   ]
  },
  {
   "cell_type": "code",
   "execution_count": 82,
   "metadata": {},
   "outputs": [
    {
     "data": {
      "image/png": "[encoded data removed]",
      "text/plain": [
       "<Figure size 504x504 with 1 Axes>"
      ]
     },
     "metadata": {
      "needs_background": "light"
     },
     "output_type": "display_data"
    }
   ],
   "source": [
    "# u2x= U_all * U_all\n",
    "# u2x_mean = np.mean(u2x,axis=(0,2,3))\n",
    "plt.figure(figsize=(7,7))\n",
    "plt.plot(np.mean(u2x_all,0),v.yp,\"o\")\n",
    "plt.xticks([0.02,0.04,0.06])\n",
    "plt.yticks([-1,-0.5,0,0.5,1])\n",
    "plt.show()"
   ]
  },
  {
   "cell_type": "markdown",
   "metadata": {},
   "source": [
    "## 3.3 Reynolds Stress"
   ]
  },
  {
   "cell_type": "code",
   "execution_count": 83,
   "metadata": {},
   "outputs": [],
   "source": [
    "def Single_uv(a_):\n",
    "    a_avg_time = np.mean(a_,axis=0)\n",
    "    U_mean_time = Velocity_x(a_avg_time)\n",
    "    V_mean_time = Velocity_y(a_avg_time)\n",
    "    U_all = np.zeros((TIME,21,21,21))\n",
    "    V_all = np.zeros((TIME,21,21,21))\n",
    "    for t in range(TIME):\n",
    "        a1 = a_[t,:]\n",
    "        U_all[t,:,:,:] = Velocity_x(a1) - U_mean_time\n",
    "        V_all[t,:,:,:] = Velocity_y(a1) - V_mean_time\n",
    "    u2x= U_all * V_all\n",
    "    u2x_mean = np.mean(u2x,axis=(0,1,3))\n",
    "    return u2x_mean\n"
   ]
  },
  {
   "cell_type": "code",
   "execution_count": 84,
   "metadata": {},
   "outputs": [],
   "source": [
    "uv_all = np.zeros((INDX,21))\n",
    "for ind in range(INDX):\n",
    "    a_ = DATA[ind,:,:]\n",
    "    uv_mean = Single_uv(a_)\n",
    "    uv_all[ind,:] = uv_mean"
   ]
  },
  {
   "cell_type": "code",
   "execution_count": 86,
   "metadata": {},
   "outputs": [
    {
     "data": {
      "image/png": "[encoded data removed]",
      "text/plain": [
       "<Figure size 504x504 with 1 Axes>"
      ]
     },
     "metadata": {
      "needs_background": "light"
     },
     "output_type": "display_data"
    }
   ],
   "source": [
    "plt.figure(figsize=(7,7))\n",
    "plt.plot(np.mean(uv_all,0),v.yp,\"o\")\n",
    "# plt.xticks([0.02,0.04,0.06])\n",
    "plt.yticks([-1,-0.5,0,0.5,1])\n",
    "plt.show()"
   ]
  }
 ],
 "metadata": {
  "kernelspec": {
   "display_name": "Python 3.9.11 64-bit",
   "language": "python",
   "name": "python3"
  },
  "language_info": {
   "codemirror_mode": {
    "name": "ipython",
    "version": 3
   },
   "file_extension": ".py",
   "mimetype": "text/x-python",
   "name": "python",
   "nbconvert_exporter": "python",
   "pygments_lexer": "ipython3",
   "version": "3.9.11"
  },
  "orig_nbformat": 4,
  "vscode": {
   "interpreter": {
    "hash": "aee8b7b246df8f9039afb4144a1f6fd8d2ca17a180786b69acc140d282b71a49"
   }
  }
 },
 "nbformat": 4,
 "nbformat_minor": 2
}
