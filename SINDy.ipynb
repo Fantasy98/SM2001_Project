{
 "cells": [
  {
   "cell_type": "code",
   "execution_count": 10,
   "metadata": {},
   "outputs": [],
   "source": [
    "import scipy.io as sio\n",
    "import numpy as np\n",
    "from matplotlib import pyplot as plt\n",
    "import pandas as pd\n",
    "import numpy.linalg as LA"
   ]
  },
  {
   "cell_type": "markdown",
   "metadata": {},
   "source": [
    "# SINDy"
   ]
  },
  {
   "cell_type": "code",
   "execution_count": 2,
   "metadata": {},
   "outputs": [
    {
     "name": "stdout",
     "output_type": "stream",
     "text": [
      "dict_keys(['__header__', '__version__', '__globals__', 'data'])\n",
      "The shape of whole dataset is (1000, 4000, 9)\n"
     ]
    }
   ],
   "source": [
    "FILE =sio.loadmat(\"/Users/wangyuning/Desktop/Data-driven Methods in Engineering Mechanics/SM2001_Project/Data generator (Moehlis model)/moehlis_data_1000.mat\")\n",
    "DATA  = FILE[\"data\"]\n",
    "print(FILE.keys())\n",
    "print(f\"The shape of whole dataset is {DATA.shape}\")"
   ]
  },
  {
   "cell_type": "code",
   "execution_count": 5,
   "metadata": {},
   "outputs": [],
   "source": [
    "# Number of Timeseries\n",
    "SERIES_NUM = DATA.shape[0]\n",
    "\n",
    "# Timesteps\n",
    "TIME = DATA.shape[1]\n",
    "\n",
    "# ODE\n",
    "ODE = DATA.shape[2]"
   ]
  },
  {
   "cell_type": "code",
   "execution_count": 7,
   "metadata": {},
   "outputs": [],
   "source": [
    "def Pool_Data(X,nVars:int,poly:int):\n",
    "\n",
    "\n",
    "    # X1 = X[:,0]\n",
    "    # X2 = X[:,1]\n",
    "\n",
    "\n",
    "    n = X.shape[0]\n",
    "    m = np.int64(1+nVars+(nVars*(nVars+1)/2)+(nVars*(nVars+1)*(nVars+2)/(2*3))+11)\n",
    "    yout = np.zeros((n,m))\n",
    "    ind = 0 \n",
    "    yout[:,ind] = np.ones((n))\n",
    "    ind+= 1\n",
    "    if poly >=1:\n",
    "        for i in range(nVars):\n",
    "            yout[:,ind] = X[:,i]\n",
    "            ind +=1\n",
    "    if poly >=2:\n",
    "        for i in range(nVars):\n",
    "            for j in range(i,nVars):\n",
    "                yout[:,ind] = X[:,i] * X[:,j]\n",
    "                ind +=1\n",
    "    if poly >=3:\n",
    "        for i in range(nVars):\n",
    "            for j in range(i,nVars):\n",
    "                for k in range(j,nVars):\n",
    "                    yout[:,ind] = X[:,i] * X[:,j] * X[:,k]\n",
    "                    ind+=1\n",
    "    return yout"
   ]
  },
  {
   "cell_type": "code",
   "execution_count": 11,
   "metadata": {},
   "outputs": [],
   "source": [
    "def SparsifyDynamics(Xi,Theta,dX,Lambda,K):\n",
    "    for k in range(K):\n",
    "        smallinds = np.abs(Xi) <Lambda\n",
    "        Xi[smallinds] = 0\n",
    "        for ind in range(2):\n",
    "            biginds = ~smallinds[:,ind]\n",
    "            res = LA.lstsq(Theta[:,biginds],dX[:,ind])\n",
    "            # print(res)\n",
    "            Xi[biginds,ind]  = res[0]\n",
    "    \n",
    "    return Xi "
   ]
  },
  {
   "cell_type": "code",
   "execution_count": 12,
   "metadata": {},
   "outputs": [
    {
     "name": "stdout",
     "output_type": "stream",
     "text": [
      "(4000, 9)\n"
     ]
    }
   ],
   "source": [
    "A = DATA[0,:,:]\n",
    "print(A.shape)"
   ]
  },
  {
   "cell_type": "code",
   "execution_count": 14,
   "metadata": {},
   "outputs": [],
   "source": [
    "dA = np.zeros((3999,9))\n",
    "dt = 1\n",
    "for i in range(ODE):\n",
    "    dA[:,i] = (A[1:,i] - A[0:-1,i])/dt\n"
   ]
  },
  {
   "cell_type": "code",
   "execution_count": 22,
   "metadata": {},
   "outputs": [
    {
     "name": "stdout",
     "output_type": "stream",
     "text": [
      "(1, 9)\n",
      "(3999, 9)\n"
     ]
    },
    {
     "data": {
      "text/plain": [
       "(4000, 9)"
      ]
     },
     "execution_count": 22,
     "metadata": {},
     "output_type": "execute_result"
    }
   ],
   "source": [
    "init = np.array([[1, 0.07066, -0.07076, 0, 0, 0, 0, 0, 0]])\n",
    "print(init.shape)\n",
    "print(dA.shape)\n",
    "dA_init = np.vstack([init,dA])\n",
    "dA_init.shape"
   ]
  },
  {
   "cell_type": "markdown",
   "metadata": {},
   "source": [
    "# 2 Build the Library"
   ]
  },
  {
   "cell_type": "code",
   "execution_count": 24,
   "metadata": {},
   "outputs": [
    {
     "name": "stdout",
     "output_type": "stream",
     "text": [
      "Shape of library is (4000, 231)\n"
     ]
    }
   ],
   "source": [
    "X_in = A\n",
    "Theta = Pool_Data(X_in,nVars=ODE,poly=3)\n",
    "print(f\"Shape of library is {Theta.shape}\")"
   ]
  },
  {
   "cell_type": "code",
   "execution_count": 35,
   "metadata": {},
   "outputs": [
    {
     "name": "stdout",
     "output_type": "stream",
     "text": [
      "Psi:\n",
      "[[-0.32465227  0.          0.         ...  0.          0.\n",
      "   0.        ]\n",
      " [ 3.55838417  0.         -0.1915145  ...  0.          0.\n",
      "   0.        ]\n",
      " [-1.0089084   0.          0.         ...  0.          0.\n",
      "   0.        ]\n",
      " ...\n",
      " [ 0.          0.          0.         ...  0.          0.\n",
      "   0.        ]\n",
      " [ 0.          0.          0.         ...  0.          0.\n",
      "   0.        ]\n",
      " [ 0.          0.          0.         ...  0.          0.\n",
      "   0.        ]]\n",
      "\n",
      "\n",
      "(4000, 9)\n",
      "\n",
      "MAE with dX1: 0.007870984962723171\n"
     ]
    }
   ],
   "source": [
    "import scipy.linalg as LA\n",
    "Res = LA.lstsq(Theta,dA_init)\n",
    "Xi = Res[0]\n",
    "Psi = SparsifyDynamics(Xi,Theta,dA_init,Lambda=0.13,K=10)\n",
    "print(f\"Psi:\\n{Psi}\\n\")\n",
    "A_recon = Theta @ Psi\n",
    "print(f\"\\n{A_recon.shape}\\n\")\n",
    "print(f\"MAE with dX1: {np.mean(np.abs(A_recon - dA_init))}\")\n",
    "# print(f\"MAE with dX2: {np.mean(np.abs(X_recon[:,1] - dX[:,1]))}\")"
   ]
  },
  {
   "cell_type": "markdown",
   "metadata": {},
   "source": []
  }
 ],
 "metadata": {
  "kernelspec": {
   "display_name": "Python 3.9.11 64-bit",
   "language": "python",
   "name": "python3"
  },
  "language_info": {
   "codemirror_mode": {
    "name": "ipython",
    "version": 3
   },
   "file_extension": ".py",
   "mimetype": "text/x-python",
   "name": "python",
   "nbconvert_exporter": "python",
   "pygments_lexer": "ipython3",
   "version": "3.9.11"
  },
  "orig_nbformat": 4,
  "vscode": {
   "interpreter": {
    "hash": "aee8b7b246df8f9039afb4144a1f6fd8d2ca17a180786b69acc140d282b71a49"
   }
  }
 },
 "nbformat": 4,
 "nbformat_minor": 2
}
